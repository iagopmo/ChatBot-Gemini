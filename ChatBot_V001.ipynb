{
  "nbformat": 4,
  "nbformat_minor": 0,
  "metadata": {
    "colab": {
      "provenance": [],
      "authorship_tag": "ABX9TyPRcNm9GulVKtnOu0YNzPj8",
      "include_colab_link": true
    },
    "kernelspec": {
      "name": "python3",
      "display_name": "Python 3"
    },
    "language_info": {
      "name": "python"
    }
  },
  "cells": [
    {
      "cell_type": "markdown",
      "metadata": {
        "id": "view-in-github",
        "colab_type": "text"
      },
      "source": [
        "<a href=\"https://colab.research.google.com/github/iagopmo/ChatBot-Gemini/blob/main/ChatBot_V001.ipynb\" target=\"_parent\"><img src=\"https://colab.research.google.com/assets/colab-badge.svg\" alt=\"Open In Colab\"/></a>"
      ]
    },
    {
      "cell_type": "markdown",
      "source": [
        "Instalando o SDK do Google"
      ],
      "metadata": {
        "id": "3czHyP3qxuYN"
      }
    },
    {
      "cell_type": "code",
      "execution_count": null,
      "metadata": {
        "id": "Rna31b7exL0C"
      },
      "outputs": [],
      "source": [
        "!pip install -q -U google-generativeai"
      ]
    },
    {
      "cell_type": "code",
      "source": [
        "import google.generativeai as genai\n",
        "\n",
        "GOOGLE_API_KEY=\"\"\n",
        "genai.configure(api_key=GOOGLE_API_KEY)"
      ],
      "metadata": {
        "id": "HaJ6yvcmyEYw"
      },
      "execution_count": null,
      "outputs": []
    },
    {
      "cell_type": "markdown",
      "source": [
        "Listar os modelos disponíveis"
      ],
      "metadata": {
        "id": "6j-qa6mZyRCw"
      }
    },
    {
      "cell_type": "code",
      "source": [
        "for m in genai.list_models():\n",
        "  if 'generateContent' in m.supported_generation_methods:\n",
        "    print(m.name)"
      ],
      "metadata": {
        "colab": {
          "base_uri": "https://localhost:8080/",
          "height": 139
        },
        "id": "F6BIcJxqyU-A",
        "outputId": "4c49bfa8-98fb-485f-f06f-fad0374539f8"
      },
      "execution_count": null,
      "outputs": [
        {
          "output_type": "stream",
          "name": "stdout",
          "text": [
            "models/gemini-1.0-pro\n",
            "models/gemini-1.0-pro-001\n",
            "models/gemini-1.0-pro-latest\n",
            "models/gemini-1.0-pro-vision-latest\n",
            "models/gemini-1.5-pro-latest\n",
            "models/gemini-pro\n",
            "models/gemini-pro-vision\n"
          ]
        }
      ]
    },
    {
      "cell_type": "markdown",
      "source": [
        "generation_config -> possibilita configurar top P, top K, temperatura\n",
        "\n",
        "Candidate_count -> a quantidade de respostas dadas a partir do pedido feito.\n",
        "\n",
        "Configuração de temperatura indica o quanto o texto gerado vai estar mais fiel aos exemplos dados, quanto menor, mais opcões, quanto maior, menos opções ele terá."
      ],
      "metadata": {
        "id": "MCnVUM5q16em"
      }
    },
    {
      "cell_type": "code",
      "source": [
        "generation_config = {\n",
        "    \"candidate_count\": 1,\n",
        "    \"temperature\": 0.5,\n",
        "}"
      ],
      "metadata": {
        "id": "ElJIi8Lr0P0f"
      },
      "execution_count": null,
      "outputs": []
    },
    {
      "cell_type": "markdown",
      "source": [
        "Configurações de segurança: o gemini da 4 opções para cada tipo de segurança, sem bloqueio ao bloqueio total, opções dependem do sistema criado."
      ],
      "metadata": {
        "id": "__3pBRxJ2nOO"
      }
    },
    {
      "cell_type": "code",
      "source": [
        "safety_settings = {\n",
        "    \"HARASSMENT\": \"BLOCK_NONE\",\n",
        "    \"HATE\": \"BLOCK_NONE\",\n",
        "    \"SEXUAL\": \"BLOCK_NONE\",\n",
        "    \"DANGEROUS\": \"BLOCK_NONE\"\n",
        "}"
      ],
      "metadata": {
        "id": "67tq8cvB05qA"
      },
      "execution_count": null,
      "outputs": []
    },
    {
      "cell_type": "markdown",
      "source": [
        "Inicializando o modelo"
      ],
      "metadata": {
        "id": "xO5F_sNd3Z2n"
      }
    },
    {
      "cell_type": "code",
      "source": [
        "model = genai.GenerativeModel(model_name=\"gemini-1.0-pro\",\n",
        "                              generation_config=generation_config,\n",
        "                              safety_settings=safety_settings)"
      ],
      "metadata": {
        "id": "ZgNsfb_r1zLU"
      },
      "execution_count": null,
      "outputs": []
    },
    {
      "cell_type": "code",
      "source": [
        "response = model.generate_content(\"Vamos aprender sobre estilos de esports, me de sugestões.\")\n",
        "print(response.text)"
      ],
      "metadata": {
        "id": "UeIPIJ_O_swk"
      },
      "execution_count": null,
      "outputs": []
    },
    {
      "cell_type": "code",
      "source": [
        "chat = model.start_chat(history=[])"
      ],
      "metadata": {
        "id": "gxGBH7RkHZUk"
      },
      "execution_count": null,
      "outputs": []
    },
    {
      "cell_type": "code",
      "source": [
        "prompt = input(\"Esperando prompt: \")\n",
        "\n",
        "while prompt != \"fim\":\n",
        "  response = chat.send_message(prompt)\n",
        "  print(\"Resposta: \", response.text, \"\\n\")\n",
        "  prompt = input(\"Esperando prompt: \")"
      ],
      "metadata": {
        "colab": {
          "base_uri": "https://localhost:8080/",
          "height": 627
        },
        "id": "naMYoEWQH3o_",
        "outputId": "457e894a-d44e-48ea-bc7c-e83063d8be9b"
      },
      "execution_count": null,
      "outputs": [
        {
          "name": "stdout",
          "output_type": "stream",
          "text": [
            "Esperando prompt: Qual o jogo de computador mais jogado no mundo?\n",
            "Resposta:  Minecraft \n",
            "\n",
            "Esperando prompt: qual a faixa etária de seu público?\n",
            "Resposta:  7 a 15 anos\n",
            "\n",
            "No entanto, Minecraft tem um público amplo que abrange todas as faixas etárias, incluindo adultos. \n",
            "\n",
            "Esperando prompt: é possível zerar esse jogo?\n",
            "Resposta:  Sim, é possível zerar o Minecraft, mas não no sentido tradicional.\n",
            "\n",
            "O Minecraft não tem um final definido ou uma história linear. Em vez disso, os jogadores são livres para explorar o mundo gerado processualmente, construir estruturas, criar itens e lutar contra mobs.\n",
            "\n",
            "No entanto, existe uma conquista chamada \"The End\" que pode ser obtida ao derrotar o Ender Dragon, um chefe poderoso localizado na dimensão End. Depois de derrotar o Ender Dragon, os jogadores podem retornar ao mundo normal através de um portal e receberão créditos finais.\n",
            "\n",
            "No entanto, mesmo após derrotar o Ender Dragon, os jogadores ainda podem continuar jogando e explorando o mundo do Minecraft indefinidamente. \n",
            "\n",
            "Esperando prompt: esse jogo é bom?\n",
            "Resposta:  Sim, Minecraft é um jogo muito bom. Aqui estão alguns dos motivos:\n",
            "\n",
            "* **Criatividade e liberdade:** Minecraft permite que os jogadores usem sua imaginação e criatividade para construir e explorar mundos únicos. Eles podem construir casas, castelos, cidades e até mesmo máquinas complexas.\n",
            "* **Jogabilidade envolvente:** Minecraft oferece uma jogabilidade envolvente que combina exploração, construção, sobrevivência e combate. Os jogadores podem explorar vastos mundos gerados processualmente, encontrar recursos, criar itens e lutar contra mobs hostis.\n",
            "* **Comunidade ativa:** Minecraft tem uma comunidade ativa e apaixonada. Os jogadores podem compartilhar suas criações, colaborar em projetos e participar de servidores multijogador.\n",
            "* **Atualizações regulares:** O Minecraft é atualizado regularmente com novos recursos, blocos e itens. Isso mantém o jogo atualizado e emocionante.\n",
            "* **Adequado para todas as idades:** Minecraft é adequado para jogadores de todas as idades. É fácil de aprender, mas difícil de dominar.\n",
            "\n",
            "Além disso, Minecraft recebeu muitos prêmios e reconhecimentos, incluindo:\n",
            "\n",
            "* Jogo do Ano (2011) - The Game Awards\n",
            "* Jogo Mais Vendido de Todos os Tempos (2019) - Guinness World Records\n",
            "\n",
            "No geral, Minecraft é um jogo excelente que oferece uma experiência única e envolvente para jogadores de todas as idades. \n",
            "\n",
            "Esperando prompt: fim\n"
          ]
        }
      ]
    },
    {
      "cell_type": "markdown",
      "source": [
        "Melhorando a visualização do código"
      ],
      "metadata": {
        "id": "zy2Y05piQ8HS"
      }
    },
    {
      "cell_type": "code",
      "source": [
        "chat.history"
      ],
      "metadata": {
        "id": "8P9oOzm7R6DX"
      },
      "execution_count": null,
      "outputs": []
    },
    {
      "cell_type": "code",
      "source": [
        "import textwrap\n",
        "from IPython.display import display\n",
        "from IPython.display import Markdown\n",
        "\n",
        "def to_markdown(text):\n",
        "  text = text.replace(' * ', '  *')\n",
        "  return Markdown(textwrap.indent(text, '> ', predicate=lambda _: True))\n",
        "\n",
        "#Imprimindo o hitórico\n",
        "for message in chat.history:\n",
        "  display(to_markdown(f'**{message.role}**: {message.parts[0].text}'))\n",
        "  print('---------------------------------------------')"
      ],
      "metadata": {
        "colab": {
          "base_uri": "https://localhost:8080/",
          "height": 897
        },
        "id": "qo6onRAPOm0W",
        "outputId": "61a44137-2d84-483b-cf54-001ad8411f94"
      },
      "execution_count": null,
      "outputs": [
        {
          "output_type": "display_data",
          "data": {
            "text/plain": [
              "<IPython.core.display.Markdown object>"
            ],
            "text/markdown": "> **user**: Qual o jogo de computador mais jogado no mundo?"
          },
          "metadata": {}
        },
        {
          "output_type": "stream",
          "name": "stdout",
          "text": [
            "---------------------------------------------\n"
          ]
        },
        {
          "output_type": "display_data",
          "data": {
            "text/plain": [
              "<IPython.core.display.Markdown object>"
            ],
            "text/markdown": "> **model**: Minecraft"
          },
          "metadata": {}
        },
        {
          "output_type": "stream",
          "name": "stdout",
          "text": [
            "---------------------------------------------\n"
          ]
        },
        {
          "output_type": "display_data",
          "data": {
            "text/plain": [
              "<IPython.core.display.Markdown object>"
            ],
            "text/markdown": "> **user**: qual a faixa etária de seu público?"
          },
          "metadata": {}
        },
        {
          "output_type": "stream",
          "name": "stdout",
          "text": [
            "---------------------------------------------\n"
          ]
        },
        {
          "output_type": "display_data",
          "data": {
            "text/plain": [
              "<IPython.core.display.Markdown object>"
            ],
            "text/markdown": "> **model**: 7 a 15 anos\n> \n> No entanto, Minecraft tem um público amplo que abrange todas as faixas etárias, incluindo adultos."
          },
          "metadata": {}
        },
        {
          "output_type": "stream",
          "name": "stdout",
          "text": [
            "---------------------------------------------\n"
          ]
        },
        {
          "output_type": "display_data",
          "data": {
            "text/plain": [
              "<IPython.core.display.Markdown object>"
            ],
            "text/markdown": "> **user**: é possível zerar esse jogo?"
          },
          "metadata": {}
        },
        {
          "output_type": "stream",
          "name": "stdout",
          "text": [
            "---------------------------------------------\n"
          ]
        },
        {
          "output_type": "display_data",
          "data": {
            "text/plain": [
              "<IPython.core.display.Markdown object>"
            ],
            "text/markdown": "> **model**: Sim, é possível zerar o Minecraft, mas não no sentido tradicional.\n> \n> O Minecraft não tem um final definido ou uma história linear. Em vez disso, os jogadores são livres para explorar o mundo gerado processualmente, construir estruturas, criar itens e lutar contra mobs.\n> \n> No entanto, existe uma conquista chamada \"The End\" que pode ser obtida ao derrotar o Ender Dragon, um chefe poderoso localizado na dimensão End. Depois de derrotar o Ender Dragon, os jogadores podem retornar ao mundo normal através de um portal e receberão créditos finais.\n> \n> No entanto, mesmo após derrotar o Ender Dragon, os jogadores ainda podem continuar jogando e explorando o mundo do Minecraft indefinidamente."
          },
          "metadata": {}
        },
        {
          "output_type": "stream",
          "name": "stdout",
          "text": [
            "---------------------------------------------\n"
          ]
        },
        {
          "output_type": "display_data",
          "data": {
            "text/plain": [
              "<IPython.core.display.Markdown object>"
            ],
            "text/markdown": "> **user**: esse jogo é bom?"
          },
          "metadata": {}
        },
        {
          "output_type": "stream",
          "name": "stdout",
          "text": [
            "---------------------------------------------\n"
          ]
        },
        {
          "output_type": "display_data",
          "data": {
            "text/plain": [
              "<IPython.core.display.Markdown object>"
            ],
            "text/markdown": "> **model**: Sim, Minecraft é um jogo muito bom. Aqui estão alguns dos motivos:\n> \n> * **Criatividade e liberdade:** Minecraft permite que os jogadores usem sua imaginação e criatividade para construir e explorar mundos únicos. Eles podem construir casas, castelos, cidades e até mesmo máquinas complexas.\n> * **Jogabilidade envolvente:** Minecraft oferece uma jogabilidade envolvente que combina exploração, construção, sobrevivência e combate. Os jogadores podem explorar vastos mundos gerados processualmente, encontrar recursos, criar itens e lutar contra mobs hostis.\n> * **Comunidade ativa:** Minecraft tem uma comunidade ativa e apaixonada. Os jogadores podem compartilhar suas criações, colaborar em projetos e participar de servidores multijogador.\n> * **Atualizações regulares:** O Minecraft é atualizado regularmente com novos recursos, blocos e itens. Isso mantém o jogo atualizado e emocionante.\n> * **Adequado para todas as idades:** Minecraft é adequado para jogadores de todas as idades. É fácil de aprender, mas difícil de dominar.\n> \n> Além disso, Minecraft recebeu muitos prêmios e reconhecimentos, incluindo:\n> \n> * Jogo do Ano (2011) - The Game Awards\n> * Jogo Mais Vendido de Todos os Tempos (2019) - Guinness World Records\n> \n> No geral, Minecraft é um jogo excelente que oferece uma experiência única e envolvente para jogadores de todas as idades."
          },
          "metadata": {}
        },
        {
          "output_type": "stream",
          "name": "stdout",
          "text": [
            "---------------------------------------------\n"
          ]
        }
      ]
    }
  ]
}